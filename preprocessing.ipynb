{
  "nbformat": 4,
  "nbformat_minor": 0,
  "metadata": {
    "colab": {
      "name": "preprocessing.ipynb",
      "provenance": [],
      "authorship_tag": "ABX9TyNZ7G3NYEVIIOwJuraL6nya",
      "include_colab_link": true
    },
    "kernelspec": {
      "name": "python3",
      "display_name": "Python 3"
    },
    "language_info": {
      "name": "python"
    }
  },
  "cells": [
    {
      "cell_type": "markdown",
      "metadata": {
        "id": "view-in-github",
        "colab_type": "text"
      },
      "source": [
        "<a href=\"https://colab.research.google.com/github/Bovindra/Preprocessing/blob/main/preprocessing.ipynb\" target=\"_parent\"><img src=\"https://colab.research.google.com/assets/colab-badge.svg\" alt=\"Open In Colab\"/></a>"
      ]
    },
    {
      "cell_type": "code",
      "metadata": {
        "id": "6WRVbrT86BjB"
      },
      "source": [
        "#coding\n",
        "import numpy as np\n",
        "import matplotlib.pyplot as plt\n",
        "import pandas as pd\n",
        "import chardet"
      ],
      "execution_count": 2,
      "outputs": []
    },
    {
      "cell_type": "code",
      "metadata": {
        "colab": {
          "base_uri": "https://localhost:8080/"
        },
        "id": "D_paaqVu6cQU",
        "outputId": "944dc43f-e1b5-4105-abd5-9a853122e1fb"
      },
      "source": [
        "#importdataset \n",
        "#pemanggilan Dataset dengan nama generic-food.csv\n",
        "dataset= pd.read_csv('generic-food.csv')\n",
        "X = dataset.iloc[:,:-1].values\n",
        "Y = dataset.iloc[:,-1].values\n",
        "print(X)\n",
        "print(Y)"
      ],
      "execution_count": 7,
      "outputs": [
        {
          "output_type": "stream",
          "text": [
            "[['Angelica' 'Angelica keiskei' 'Herbs and Spices']\n",
            " ['Savoy cabbage' 'Brassica oleracea var. sabauda' 'Vegetables']\n",
            " ['Silver linden' 'Tilia argentea' 'Herbs and Spices']\n",
            " ...\n",
            " ['Cow milk, pasteurized, vitamin A + D added, 1% fat' nan\n",
            "  'Milk and milk products']\n",
            " ['Cow milk, pasteurized, vitamin A + D added, 2% fat' nan\n",
            "  'Milk and milk products']\n",
            " ['Cow milk, pasteurized, vitamin D added, 3.25% fat' nan\n",
            "  'Milk and milk products']]\n",
            "['Herbs' 'Cabbages' 'Herbs' 'Tropical fruits' 'Onion-family vegetables'\n",
            " 'Onion-family vegetables' 'Onion-family vegetables' 'Herbs' 'Herbs'\n",
            " 'Herbs' 'Nuts' 'Tropical fruits' 'Herbs' 'Tropical fruits' 'Spices'\n",
            " 'Nuts' 'Root vegetables' 'Spices' 'Herbs' 'Herbs' 'Shoot vegetables'\n",
            " 'Cereals' 'Tropical fruits' 'Nuts' 'Leaf vegetables' 'Oilseed crops'\n",
            " 'Cabbages' 'Root vegetables' 'Root vegetables' 'Cabbages' 'Cabbages'\n",
            " 'Cabbages' 'Root vegetables' 'Cabbages' 'Cabbages' 'Herbs' 'Peas' 'Teas'\n",
            " 'Spices' 'Fruit vegetables' 'Tropical fruits' 'Oilseed crops' 'Spices'\n",
            " 'Nuts' 'Nuts' 'Herbs' 'Peas' 'Leaf vegetables' 'Root vegetables' 'Spices'\n",
            " 'Spices' 'Gourds' 'Citrus' 'Citrus' 'Citrus' 'Citrus' 'Citrus' 'Coffee'\n",
            " 'Coffee' 'Coffee' 'Herbs' 'Nuts' 'Spices' 'Gourds' 'Gourds' 'Gourds'\n",
            " 'Spices' 'Spices' 'Pomes' 'Herbs' 'Shoot vegetables' 'Root vegetables'\n",
            " 'Tropical fruits' 'Spices' 'Berries' 'Tropical fruits' 'Leaf vegetables'\n",
            " 'Tropical fruits' 'Cereals' 'Cereals' 'Other fruits' 'Herbs' 'Berries'\n",
            " 'Berries' 'Soy' 'Oilseed crops' 'Berries' 'Cereals' 'Herbs' 'Spices'\n",
            " 'Leaf vegetables' 'Tubers' 'Nuts' 'Nuts' 'Leaf vegetables' 'Peas' 'Herbs'\n",
            " 'Lentils' 'Leaf vegetables' 'Herbs' 'Oilseed crops' 'Herbs'\n",
            " 'Tropical fruits' 'Other pulses' 'Pomes' 'Tropical fruits' 'Herbs'\n",
            " 'Herbs' 'Herbs' 'Herbs' 'Herbs' 'Herbs' 'Herbs' 'Pomes' 'Gourds'\n",
            " 'Berries' 'Berries' 'Spices' 'Herbs' 'Oilseed crops' 'Fruit vegetables'\n",
            " 'Herbs' 'Herbs' 'Herbs' 'Cereals' 'Cereals' 'Oilseed crops'\n",
            " 'Tropical fruits' 'Root vegetables' 'Fruit vegetables' 'Herbs' 'Beans'\n",
            " 'Beans' 'Beans' 'Other fruits' 'Berries' 'Herbs' 'Nuts' 'Spices' 'Nuts'\n",
            " 'Peas' 'Herbs' 'Drupes' 'Drupes' 'Drupes' 'Drupes' 'Drupes' 'Nuts'\n",
            " 'Drupes' 'Tropical fruits' 'Tropical fruits' 'Pomes' 'Root vegetables'\n",
            " 'Stalk vegetables' 'Berries' 'Berries' 'Berries' 'Herbs' 'Herbs'\n",
            " 'Berries' 'Berries' 'Berries' 'Berries' 'Herbs' 'Herbs' 'Berries' 'Herbs'\n",
            " 'Herbs' 'Cereals' 'Oilseed crops' 'Fruit vegetables' 'Fruit vegetables'\n",
            " 'Fruit vegetables' 'Fruit vegetables' 'Tubers' 'Berries' 'Cereals'\n",
            " 'Leaf vegetables' 'Spices' 'Tropical fruits' 'Herbs' 'Cocoa' 'Herbs'\n",
            " 'Herbs' 'Herbs' 'Herbs' 'Cereals' 'Berries' 'Berries' 'Berries' 'Berries'\n",
            " 'Berries' 'Berries' 'Berries' 'Spices' 'Herbs' 'Beans' 'Beans' 'Beans'\n",
            " 'Beans' 'Beans' 'Peas' 'Berries' 'Berries' 'Cereals' 'Spices' 'Berries'\n",
            " 'Tropical fruits' 'Berries' 'Berries' 'Berries' 'Berries' 'Berries'\n",
            " 'Root vegetables' 'Stalk vegetables' 'Herbs' 'Berries' 'Berries' 'Spices'\n",
            " 'Berries' 'Berries' 'Berries' 'Berries' 'Tropical fruits' 'Nuts'\n",
            " 'Onion-family vegetables' 'Berries' 'Berries' 'Drupes' 'Drupes'\n",
            " 'Fruit vegetables' 'Fruit vegetables' 'Fruit vegetables'\n",
            " 'Tropical fruits' 'Cereals' 'Cereals' 'Leaf vegetables' 'Herbs'\n",
            " 'Cabbages' 'Nuts' 'Herbs' 'Cereals' 'Onion-family vegetables'\n",
            " 'Leaf vegetables' 'Root vegetables' 'Cereals' 'Cabbages' 'Berries'\n",
            " 'Herbs' 'Leaf vegetables' 'Cabbages' 'Cabbages' 'Cabbages'\n",
            " 'Root vegetables' 'Citrus' 'Citrus' 'Berries' 'Cabbages' 'Herbs'\n",
            " 'Cabbages' 'Root vegetables' 'Root vegetables' 'Root vegetables'\n",
            " 'Root vegetables' 'Berries' 'Herbs' 'Berries' 'Fermented beverages'\n",
            " 'Other breads' 'Cereal products' 'Soy products' 'Cereal products'\n",
            " 'Cereal products' 'Cereal products' 'Doughs' 'Distilled beverages'\n",
            " 'Fortified wines' 'Alcoholic beverages' 'Mollusks' 'Tropical fruits'\n",
            " 'Tropical fruits' 'Nuts' 'Gourds' 'Seaweed' 'Crustaceans' 'Herbs'\n",
            " 'Spices' 'Herbs' 'Tubers' 'Tubers' 'Pomes' 'Fishes' 'Fishes' 'Fishes'\n",
            " 'Fishes' 'Fishes' 'Shoot vegetables' 'Fishes' 'Rodents' 'Nuts'\n",
            " 'Cetaceans' 'Bovines' 'Other mammals' 'Fishes' 'Crustaceans' 'Mollusks'\n",
            " 'Fishes' 'Fishes' 'Swine' 'Cetaceans' 'Tropical fruits' 'Other seeds'\n",
            " 'Cabbages' 'Other mammals' 'Bovines' 'Fishes' 'Other vegetables' 'Fishes'\n",
            " 'Nuts' 'Gourds' 'Gourds' 'Shoot vegetables' 'Venison' 'Tropical fruits'\n",
            " 'Other vegetables' 'Fishes' 'Tubers' 'Fishes' 'Gourds' 'Tropical fruits'\n",
            " 'Spices' 'Other seeds' 'Poultry' 'Cabbages' 'Nuts' 'Other vegetables'\n",
            " 'Leaf vegetables' 'Fishes' 'Mollusks' 'Tropical fruits' 'Fishes' 'Fishes'\n",
            " 'Mollusks' 'Leaf vegetables' 'Oilseed crops' 'Peas' 'Pomes' 'Berries'\n",
            " 'Fishes' 'Fishes' 'Mollusks' 'Venison' 'Fishes' 'Herbs' 'Fishes' 'Fishes'\n",
            " 'Poultry' 'Crustaceans' 'Tropical fruits' 'Mollusks' 'Fishes' 'Berries'\n",
            " 'Venison' 'Poultry' 'Root vegetables' 'Fishes' 'Nuts' 'Fishes' 'Herbs'\n",
            " 'Fishes' 'Other seeds' 'Poultry' 'Berries' 'Fishes' 'Fruit vegetables'\n",
            " 'Fishes' 'Poultry' 'Fishes' 'Fishes' 'Nuts' 'Nuts' 'Equines'\n",
            " 'Other vegetables' 'Berries' 'Beans' 'Seaweed' 'Fishes' 'Tropical fruits'\n",
            " 'Nuts' 'Tropical fruits' 'Tubers' 'Other fruits' 'Leaf vegetables'\n",
            " 'Cabbages' 'Seaweed' 'Fishes' 'Tropical fruits' 'Leaf vegetables'\n",
            " 'Mollusks' 'Onion-family vegetables' 'Fishes' 'Fishes' 'Crustaceans'\n",
            " 'Berries' 'Other seeds' 'Other vegetables' 'Other pulses'\n",
            " 'Leaf vegetables' 'Tropical fruits' 'Tropical fruits' 'Root vegetables'\n",
            " 'Fishes' 'Fishes' 'Venison' 'Beans' 'Tubers' 'Fishes' 'Rodents' 'Spices'\n",
            " 'Cabbages' 'Leaf vegetables' 'Other vegetables' 'Fishes' 'Mollusks'\n",
            " 'Berries' 'Other vegetables' 'Other aquatic foods' 'Marsupials' 'Poultry'\n",
            " 'Pinnipeds' 'Fishes' 'Mollusks' 'Fishes' 'Poultry' 'Fruit vegetables'\n",
            " 'Tropical fruits' 'Poultry' 'Fishes' 'Nuts' 'Nuts' 'Tropical fruits'\n",
            " 'Tropical fruits' 'Tropical fruits' 'Shoot vegetables' 'Other mammals'\n",
            " 'Spices' 'Root vegetables' 'Tropical fruits' 'Other seeds' 'Lagomorphs'\n",
            " 'Other mammals' 'Fishes' 'Fishes' 'Tropical fruits' 'Herbs' 'Herbs'\n",
            " 'Fishes' 'Fishes' 'Fishes' 'Fishes' 'Fishes' 'Fishes' 'Fishes' 'Fishes'\n",
            " 'Berries' 'Root vegetables' 'Tropical fruits' 'Tropical fruits' 'Fishes'\n",
            " 'Fishes' 'Mollusks' 'Fishes' 'Other aquatic foods' 'Pinnipeds'\n",
            " 'Pinnipeds' 'Pinnipeds' 'Fishes' 'Other vegetables' 'Fishes' 'Fishes'\n",
            " 'Fishes' 'Ovis' 'Fishes' 'Other seeds' 'Fishes' 'Fishes'\n",
            " 'Tropical fruits' 'Cereals' 'Seaweed' 'Poultry' 'Rodents' 'Berries'\n",
            " 'Fishes' 'Fishes' 'Tropical fruits' 'Fishes' 'Fishes' 'Root vegetables'\n",
            " 'Herbs' 'Fishes' 'Fruit vegetables' 'Gourds' 'Fishes' 'Poultry' 'Bovines'\n",
            " 'Fishes' 'Fishes' 'Spices' 'Gourds' 'Mollusks' 'Fishes' 'Fishes' 'Fishes'\n",
            " 'Fishes' 'Cereals' 'Herbs' 'Beans' 'Tubers' 'Root vegetables'\n",
            " 'Leaf vegetables' 'Fishes' 'Fishes' 'Fishes' 'Fishes' 'Fishes' 'Fishes'\n",
            " 'Fishes' 'Fishes' 'Fishes' 'Fishes' 'Crustaceans' 'Crustaceans' 'Peas'\n",
            " 'Venison' 'Nuts' 'Fishes' 'Fishes' 'Rodents' 'Lagomorphs' 'Caprae'\n",
            " 'Bovines' 'Venison' 'Mollusks' 'Mollusks' 'Crustaceans' 'Crustaceans'\n",
            " 'Fishes' 'Swine' 'Pinnipeds' 'Stalk vegetables' 'Cereals' 'Peas'\n",
            " 'Poultry' 'Poultry' 'Berries' 'Citrus' 'Tropical fruits' 'Other seeds'\n",
            " 'Mushrooms' 'Mushrooms' 'Mushrooms' 'Seaweed' 'Seaweed' 'Mushrooms'\n",
            " 'Herbs' 'Mushrooms' 'Mushrooms' 'Mushrooms' 'Leaf vegetables' 'Fishes'\n",
            " 'Herbs' 'Gourds' 'Fishes' 'Cereals' 'Drupes' 'Other vegetables'\n",
            " 'Other vegetables' 'Other aquatic foods' 'Fishes' 'Fishes' 'Fishes'\n",
            " 'Mushrooms' 'Fishes' 'Fishes' 'Spices' 'Crustaceans' 'Fishes' 'Fishes'\n",
            " 'Poultry' 'Fishes' 'Amphibians' 'Fishes' 'Fishes' 'Lagomorphs' 'Fishes'\n",
            " 'Fishes' 'Crustaceans' 'Fishes' 'Fishes' 'Mollusks' 'Fishes'\n",
            " 'Crustaceans' 'Fishes' 'Oilseed crops' 'Mollusks' 'Oilseed crops'\n",
            " 'Tropical fruits' 'Fishes' 'Fishes' 'Poultry' 'Fishes' 'Root vegetables'\n",
            " 'Pinnipeds' 'Seaweed' 'Seaweed' 'Mollusks' 'Fishes' 'Fishes'\n",
            " 'Root vegetables' 'Fishes' 'Nuts' 'Cetaceans' 'Poultry' 'Mollusks'\n",
            " 'Fermented beverages' 'Fermented beverages' 'Fermented beverages'\n",
            " 'Fermented beverages' 'Distilled beverages' 'Fermented milk products'\n",
            " 'Unfermented milks' 'Eggs' 'Fermented milk products' 'Beans'\n",
            " 'Distilled beverages' 'Distilled beverages' 'Frozen desserts'\n",
            " 'Distilled beverages' 'Other confectioneries' 'Candies' 'Seasonings'\n",
            " 'Distilled beverages' 'Fortified wines' 'Fortified wines'\n",
            " 'Fortified wines' 'Fortified wines' 'Other confectioneries'\n",
            " 'Other confectioneries' 'Desserts' 'Other dishes'\n",
            " 'Fermented milk products' 'Snack foods' 'Flat breads' 'Desserts'\n",
            " 'Candies' 'Candies' 'Other confectioneries' 'Dressings' 'Sauces'\n",
            " 'Seasonings' 'Other milk products' 'Substitutes' 'Other milk products'\n",
            " 'Sugars' 'Ground meat' 'Ground meat' 'Condiments' 'Ground meat'\n",
            " 'Substitutes' 'Baking goods' 'Meat products' 'Other milk products'\n",
            " 'Other milk products' 'Fruit products' 'Baking goods' 'Candies'\n",
            " 'Baking goods' 'Waters' 'Fish products' 'Unfermented milks'\n",
            " 'Other beverages' 'Baby foods' 'Other dishes' 'Other dishes'\n",
            " 'Vegetable products' 'Unclassified' 'Baking goods' 'Animal fats'\n",
            " 'Condiments' 'Spreads' 'Candies' 'Herb and spice mixtures' 'Candies'\n",
            " 'Other confectioneries' 'Animal fats' 'Animal fats' 'Cocoa products'\n",
            " 'Cocoa products' 'Cocoa products' 'Cocoa products' 'Cocoa products'\n",
            " 'Cocoa products' 'Other milk products' 'Unfermented milks'\n",
            " 'Fermented milks' 'Fermented milks' 'Fermented milks' 'Soy products'\n",
            " 'Soy products' 'Soy products' 'Leavened breads' 'Roe' 'Fishes'\n",
            " 'Other confectioneries' 'Snack foods' 'Other aquatic foods'\n",
            " 'Nutritional beverages' 'Tex-Mex cuisine' 'Sandwiches' 'Other dishes'\n",
            " 'Tex-Mex cuisine' 'Tex-Mex cuisine' 'Flat breads' 'Tex-Mex cuisine'\n",
            " 'Fermented milk products' 'Other dishes' 'Substitutes' 'Spreads'\n",
            " 'Baking goods' 'Milk desserts' 'Asian cuisine' 'Other vegetables'\n",
            " 'Snack foods' 'Snack foods' 'Snack foods' 'Snack foods' 'Herbal teas'\n",
            " 'Other dishes' 'Desserts' 'Milk desserts' 'Other dishes' 'Other dishes'\n",
            " 'Frozen desserts' 'Pasta dishes' 'Mushrooms' 'Other dishes'\n",
            " 'Baking goods' 'Desserts' 'Other dishes' 'Soy products' 'Ground meat'\n",
            " 'Fermented beverages' 'Alcoholic beverages' 'Berber cuisine'\n",
            " 'Cereal products' 'Substitutes' 'Coffee products' 'Mexican cuisine'\n",
            " 'Cereal products' 'Baking goods' 'Mexican cuisine' 'Mexican cuisine'\n",
            " 'Potato dishes' 'Sandwiches' 'Baking goods' 'Mexican cuisine'\n",
            " 'Substitutes' 'Nutritional beverages' 'Sandwiches' 'Condiments'\n",
            " 'Sandwiches' 'Seasonings' 'Pasta dishes' 'Other milk products' 'Gourds'\n",
            " 'American cuisine' 'Other beverages' 'Condiments' 'Fruit products'\n",
            " 'Fruit products' 'Soy products' 'Other dishes' 'Sandwiches' 'Ground meat'\n",
            " 'Nuts' 'Oilseed crops' 'Oilseed crops' 'Oilseed crops' 'Oilseed crops'\n",
            " 'Oilseed crops' 'Oilseed crops' 'Baking goods' 'Baking goods' 'Wrappers'\n",
            " 'Baking goods' 'Desserts' 'Vegetable fats' 'Soy products' 'Wrappers'\n",
            " 'Baking goods' 'Snack foods' 'Tropical fruits' 'Tropical fruits'\n",
            " 'Soy products' 'Pasta dishes' 'American cuisine' 'Pasta dishes'\n",
            " 'American cuisine' 'Latin American cuisine' 'Asian cuisine'\n",
            " 'Other vegetables' 'Other milk products' 'Cereal products' 'Desserts'\n",
            " 'Doughs' 'Flat breads' 'Flat breads' 'Leavened breads' 'Bread products'\n",
            " 'Flat breads' 'Leavened breads' 'Leavened breads' 'Leavened breads'\n",
            " 'Leavened breads' 'Other breads' 'Flat breads' 'Cereal products'\n",
            " 'Leavened breads' 'Leavened breads' 'Leavened breads' 'Sweet breads'\n",
            " 'Wrappers' 'Snack foods' 'Herbal teas' 'Other beverages'\n",
            " 'Other beverages' 'Other beverages' 'Other beverages' 'Frozen desserts'\n",
            " 'Frozen desserts' 'Desserts' 'Animal fats' 'Latin American cuisine'\n",
            " 'Latin American cuisine' 'Latin American cuisine' 'Other aquatic foods'\n",
            " 'Jewish cuisine' 'Herbs' 'Sandwiches' 'Other dishes' 'Other dishes'\n",
            " 'Baking goods' 'Wrappers' 'Candies' 'Candies' 'Other milk products'\n",
            " 'Vegetable fats' 'Vegetable fats' 'Levantine cuisine' 'Potato dishes'\n",
            " 'Potato dishes' 'Substitutes' 'Fruit vegetables' 'Herbs' 'Cabbages'\n",
            " 'Berries' 'Mushrooms' 'Alcoholic beverages' 'Onion-family vegetables'\n",
            " 'Pomes' 'Brassicas' 'Cereals and cereal products' 'Citrus'\n",
            " 'Cocoa and cocoa products' 'Coffee and coffee products' 'Crustaceans'\n",
            " 'Milk and milk products' 'Fats and oils' 'Fishes' 'Herbs and Spices'\n",
            " 'Pulses' 'Animal foods' 'Mollusks' 'Nuts' 'Beverages' 'Fruits'\n",
            " 'Green vegetables' 'Root vegetables' 'Gourds' 'Gourds' 'Gourds'\n",
            " 'Fruit vegetables' 'Fruit vegetables' 'Fruit vegetables'\n",
            " 'Fruit vegetables' 'Fruit vegetables' 'Beans' 'Beans' 'Berries' 'Berries'\n",
            " 'Gourds' 'Cabbages' 'Leaf vegetables' 'Unfermented milks'\n",
            " 'Unfermented milks' 'Unfermented milks' 'Unfermented milks']\n"
          ],
          "name": "stdout"
        }
      ]
    },
    {
      "cell_type": "code",
      "metadata": {
        "id": "F27SOzMH6cjU"
      },
      "source": [
        "#Menghilangkan  missing value\n",
        "from sklearn.impute import SimpleImputer\n",
        "imputer = SimpleImputer(missing_values=np.nan, strategy='mean')\n",
        "X[: 1:3] = imputer.transform(X[: 1:3])\n",
        "#missing values = nilai data yang digunakan sebagai penanda bahwa nilai aslinya tidak ada \n",
        "#strategy : menggunakan rata-rata kolom mean bisa juga menggunakan median, most_frequent(modus) atau constant\n",
        "\n",
        "print(X)"
      ],
      "execution_count": null,
      "outputs": []
    },
    {
      "cell_type": "code",
      "metadata": {
        "id": "byTQz6x86cuw"
      },
      "source": [
        "#Enconding Data kategori(Atribut)\n",
        "from sklearn.compose import ColumnTransformer\n",
        "from sklearn.preprocessing import OneHotEncoder\n",
        "ct = ColumnTransformer(transformers=[('encoder', OneHotEncoder(), [0])], remainder='passthrough')\n",
        "X = np.array(ct.fit_transform(X))\n",
        "print(X)"
      ],
      "execution_count": null,
      "outputs": []
    },
    {
      "cell_type": "code",
      "metadata": {
        "id": "OTjcxR0U6c72"
      },
      "source": [
        "#Encoding Data kategori(class/label)\n",
        "from sklearn.preprocessing import LabelEncoder\n",
        "le = LabelEncoder()\n",
        "y = le.fit_transform(Y)\n",
        "\n",
        "print(Y)"
      ],
      "execution_count": null,
      "outputs": []
    },
    {
      "cell_type": "code",
      "metadata": {
        "id": "rjQxfYLk67iJ"
      },
      "source": [
        "#Membagi dataset ke dalam training set dan test set\n",
        "from sklearn.model_selection import train_test_split\n",
        "X_train, X_test, Y_train, Y_test = train_test_split(X, Y, test_size = 0.2, random_state =1)\n",
        "print(X_train)\n",
        "print(X_test)\n",
        "print(Y_train)\n",
        "print(Y_test)"
      ],
      "execution_count": null,
      "outputs": []
    },
    {
      "cell_type": "code",
      "metadata": {
        "id": "8yA5-oqH67y5"
      },
      "source": [
        "#Feature Scaling \n",
        "from sklearn.preprocessing import StandardScaler\n",
        "sc = StandardScaler()\n",
        "X_train[:, 3:] = sc.fit_transform(X_train[:, 3:])\n",
        "X_test[:, 3:] = sc.trasnform(X_test[:, 3:])\n",
        "\n",
        "print(X_train)\n",
        "print(X_test)"
      ],
      "execution_count": null,
      "outputs": []
    }
  ]
}